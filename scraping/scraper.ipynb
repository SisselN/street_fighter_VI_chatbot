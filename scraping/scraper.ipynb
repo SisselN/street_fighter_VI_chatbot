{
 "cells": [
  {
   "cell_type": "code",
   "execution_count": null,
   "id": "c9809349",
   "metadata": {},
   "outputs": [],
   "source": [
    "import requests\n",
    "from bs4 import BeautifulSoup"
   ]
  },
  {
   "cell_type": "code",
   "execution_count": null,
   "id": "29ec5800",
   "metadata": {},
   "outputs": [],
   "source": [
    "\"\"\"\n",
    "Skrapar text från en webbsida och sparar den i en textfil.\n",
    "Använder requests för att hämta sidan och BeautifulSoup för att parsa HTML.\n",
    "\"\"\"\n",
    "url = 'https://streetfighter.fandom.com/wiki/Street_Fighter_6'\n",
    "\n",
    "response = requests.get(url)\n",
    "soup = BeautifulSoup(response.text, 'html.parser')\n",
    "\n",
    "\"\"\" Hittar alla <p>-taggar och extrahera texten. \"\"\"\n",
    "paragraphs = soup.find_all(\"p\")\n",
    "text = \"\\n\\n\".join(p.get_text(strip=True) for p in paragraphs)\n",
    "\n",
    "\"\"\" Sparar i textfil. \"\"\"\n",
    "with open(\"scraped_text.txt\", \"w\", encoding=\"utf-8\") as f:\n",
    "    f.write(text)"
   ]
  }
 ],
 "metadata": {
  "kernelspec": {
   "display_name": "sf6_env",
   "language": "python",
   "name": "python3"
  },
  "language_info": {
   "codemirror_mode": {
    "name": "ipython",
    "version": 3
   },
   "file_extension": ".py",
   "mimetype": "text/x-python",
   "name": "python",
   "nbconvert_exporter": "python",
   "pygments_lexer": "ipython3",
   "version": "3.12.9"
  }
 },
 "nbformat": 4,
 "nbformat_minor": 5
}
